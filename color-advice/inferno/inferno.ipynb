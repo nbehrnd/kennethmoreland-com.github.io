{
 "cells": [
  {
   "cell_type": "markdown",
   "metadata": {},
   "source": [
    "# Inferno Color Map\n",
    "\n",
    "This Jupyter notebook takes a highly detailed list of colors that make up the inferno color map from matplotlib and derives a smaller list of control points that can be interpolated reasonably.\n",
    "\n",
    "This code relies on the [python-colormath](http://python-colormath.readthedocs.org/en/latest/index.html) module. See [its documentation](http://python-colormath.readthedocs.org/en/latest/index.html) for information such as installation instructions. (It can be installed with either pip or macports.)"
   ]
  },
  {
   "cell_type": "code",
   "execution_count": 1,
   "metadata": {},
   "outputs": [],
   "source": [
    "from colormath.color_objects import *\n",
    "from colormath.color_conversions import convert_color"
   ]
  },
  {
   "cell_type": "markdown",
   "metadata": {
    "collapsed": true
   },
   "source": [
    "Mostly because it's habit, I am also using [pandas](http://pandas.pydata.org/) dataframes to organize the data. (Pandas can be installed with macports.)"
   ]
  },
  {
   "cell_type": "code",
   "execution_count": 2,
   "metadata": {},
   "outputs": [],
   "source": [
    "import pandas\n",
    "import numpy"
   ]
  },
  {
   "cell_type": "markdown",
   "metadata": {},
   "source": [
    "We will also be using [toyplot](https://toyplot.readthedocs.org) for making visuals (version 0.10.0 or later required). See its documentation for installation instructions."
   ]
  },
  {
   "cell_type": "code",
   "execution_count": 3,
   "metadata": {},
   "outputs": [],
   "source": [
    "import toyplot\n",
    "import toyplot.svg"
   ]
  },
  {
   "cell_type": "markdown",
   "metadata": {},
   "source": [
    "We will also be importing data in JSON files, so load a package for that."
   ]
  },
  {
   "cell_type": "code",
   "execution_count": 4,
   "metadata": {},
   "outputs": [],
   "source": [
    "import json"
   ]
  },
  {
   "cell_type": "markdown",
   "metadata": {},
   "source": [
    "Load the detailed color table (256 values) from a JSON file exported from ParaView."
   ]
  },
  {
   "cell_type": "code",
   "execution_count": 5,
   "metadata": {},
   "outputs": [],
   "source": [
    "file_descriptor = open('inferno-original.json', 'r')\n",
    "raw_color_data = json.load(file_descriptor)[0]"
   ]
  },
  {
   "cell_type": "markdown",
   "metadata": {},
   "source": [
    "Run through the \"RGBPoints\" array, pull out the scalar interpolant and RGB colors, and create a pandas data frame from them."
   ]
  },
  {
   "cell_type": "code",
   "execution_count": 6,
   "metadata": {},
   "outputs": [],
   "source": [
    "scalar = []\n",
    "rgb_values = []\n",
    "for i in range(0, len(raw_color_data['RGBPoints']), 4):\n",
    "    scalar.append(raw_color_data['RGBPoints'][i+0])\n",
    "    rgb_values.append(sRGBColor(\n",
    "        raw_color_data['RGBPoints'][i+1],\n",
    "        raw_color_data['RGBPoints'][i+2],\n",
    "        raw_color_data['RGBPoints'][i+3]\n",
    "    ))\n",
    "\n",
    "data = pandas.DataFrame({'scalar': scalar, 'rgb_values': rgb_values})"
   ]
  },
  {
   "cell_type": "markdown",
   "metadata": {},
   "source": [
    "Convert RGB colors to Lab colors."
   ]
  },
  {
   "cell_type": "code",
   "execution_count": 7,
   "metadata": {},
   "outputs": [],
   "source": [
    "data['lab_values'] = data['rgb_values'].apply(lambda rgb: convert_color(rgb, LabColor))"
   ]
  },
  {
   "cell_type": "markdown",
   "metadata": {},
   "source": [
    "Make functions that will take a scalar value (in the range of 0 and 1) and return the appropriate RGB triple."
   ]
  },
  {
   "cell_type": "code",
   "execution_count": 8,
   "metadata": {},
   "outputs": [],
   "source": [
    "def color_lookup_sRGBColor(x):\n",
    "    if x < 0:\n",
    "        return sRGBColor(0, 0, 0)\n",
    "    for index in range(0, data.index.size-1):\n",
    "        low_scalar = data['scalar'][index]\n",
    "        high_scalar = data['scalar'][index+1]\n",
    "        if (x > high_scalar):\n",
    "            continue\n",
    "        low_lab = data['lab_values'][index]\n",
    "        high_lab = data['lab_values'][index+1]\n",
    "        interp = (x-low_scalar)/(high_scalar-low_scalar)\n",
    "        mid_lab = LabColor(interp*(high_lab.lab_l-low_lab.lab_l) + low_lab.lab_l,\n",
    "                           interp*(high_lab.lab_a-low_lab.lab_a) + low_lab.lab_a,\n",
    "                           interp*(high_lab.lab_b-low_lab.lab_b) + low_lab.lab_b)\n",
    "        interp_color = convert_color(mid_lab, sRGBColor)\n",
    "        # Just in case the color leaves the color gammut, clamp to valid values.\n",
    "        # This should not happen, but can just from converting to and from LAB\n",
    "        return sRGBColor(interp_color.clamped_rgb_r,\n",
    "                         interp_color.clamped_rgb_g,\n",
    "                         interp_color.clamped_rgb_b)\n",
    "    return sRGBColor(1, 1, 1)\n",
    "\n",
    "def color_lookup(x):\n",
    "    return color_lookup_sRGBColor(x).get_value_tuple()\n",
    "\n",
    "def color_lookup_upscaled(x):\n",
    "    return color_lookup_sRGBColor(x).get_upscaled_value_tuple()"
   ]
  },
  {
   "cell_type": "markdown",
   "metadata": {},
   "source": [
    "Make a long table of colors. This is a very high resolution table of colors that can be easily trimmed down with regular sampling."
   ]
  },
  {
   "cell_type": "code",
   "execution_count": 9,
   "metadata": {},
   "outputs": [],
   "source": [
    "colors_long = pandas.DataFrame({'scalar': numpy.linspace(0.0, 1.0, num=1024)})\n",
    "colors_long['RGB'] = colors_long['scalar'].apply(color_lookup_upscaled)\n",
    "colors_long['sRGB'] = colors_long['scalar'].apply(color_lookup)"
   ]
  },
  {
   "cell_type": "markdown",
   "metadata": {},
   "source": [
    "The colors are all stored as tuples in a single column. This is convenient for some operations, but not others. Thus, also create separate columns for the three RGB components."
   ]
  },
  {
   "cell_type": "code",
   "execution_count": 10,
   "metadata": {},
   "outputs": [],
   "source": [
    "def unzip_rgb_triple(dataframe, column='RGB'):\n",
    "    '''Given a dataframe and the name of a column holding an RGB triplet,\n",
    "    this function creates new separate columns for the R, G, and B values\n",
    "    with the same name as the original with '_r', '_g', and '_b' appended.'''\n",
    "    # Creates a data frame with separate columns for the triples in the given column\n",
    "    unzipped_rgb = pandas.DataFrame(dataframe[column].values.tolist(),\n",
    "                                    columns=['r', 'g', 'b'])\n",
    "    # Add the columns to the original data frame\n",
    "    dataframe[column + '_r'] = unzipped_rgb['r']\n",
    "    dataframe[column + '_g'] = unzipped_rgb['g']\n",
    "    dataframe[column + '_b'] = unzipped_rgb['b']\n",
    "\n",
    "unzip_rgb_triple(colors_long, 'RGB')\n",
    "unzip_rgb_triple(colors_long, 'sRGB')"
   ]
  },
  {
   "cell_type": "markdown",
   "metadata": {},
   "source": [
    "Make a control points table that is subsampled and reasonable to use to interpolate all points in between."
   ]
  },
  {
   "cell_type": "code",
   "execution_count": 11,
   "metadata": {},
   "outputs": [],
   "source": [
    "table_length = 8\n",
    "control_points = pandas.DataFrame({'scalar': numpy.linspace(0.0, 1.0, num=table_length)})\n",
    "control_points['RGB'] = control_points['scalar'].apply(color_lookup_upscaled)\n",
    "unzip_rgb_triple(control_points, 'RGB')"
   ]
  },
  {
   "cell_type": "markdown",
   "metadata": {},
   "source": [
    "See how far off a simple RGB interpolation would be from the next highest detail."
   ]
  },
  {
   "cell_type": "code",
   "execution_count": 12,
   "metadata": {},
   "outputs": [
    {
     "data": {
      "text/plain": [
       "27.0"
      ]
     },
     "execution_count": 12,
     "metadata": {},
     "output_type": "execute_result"
    }
   ],
   "source": [
    "control_points_compare = pandas.DataFrame({'scalar': numpy.linspace(0.0, 1.0, num=table_length*2-1)})\n",
    "control_points_compare['RGB'] = control_points_compare['scalar'].apply(color_lookup_upscaled)\n",
    "unzip_rgb_triple(control_points_compare, 'RGB')\n",
    "\n",
    "max_error = 0\n",
    "for index in range(0, table_length-1):\n",
    "    for column in ['RGB_r', 'RGB_g', 'RGB_b']:\n",
    "        expected = control_points_compare[column][index*2 + 1]\n",
    "        interp = (control_points[column][index] + control_points[column][index+1])/2\n",
    "        diff = abs(expected - interp)\n",
    "        if (diff > max_error):\n",
    "            max_error = diff\n",
    "            \n",
    "max_error"
   ]
  },
  {
   "cell_type": "markdown",
   "metadata": {},
   "source": [
    "Plot out the color map."
   ]
  },
  {
   "cell_type": "code",
   "execution_count": 13,
   "metadata": {},
   "outputs": [],
   "source": [
    "colors_palette = toyplot.color.Palette(colors=colors_long['sRGB'].values)\n",
    "colors_map = toyplot.color.LinearMap(palette=colors_palette,\n",
    "                                     domain_min=0, domain_max=1)"
   ]
  },
  {
   "cell_type": "code",
   "execution_count": 14,
   "metadata": {},
   "outputs": [
    {
     "data": {
      "text/html": [
       "<div class=\"toyplot\" id=\"tb743cc8576da4318bd569a93b69d918d\" style=\"text-align:center\"><svg class=\"toyplot-canvas-Canvas\" height=\"300.0px\" id=\"t73b83341e7694853ae9b964fd463f37d\" preserveAspectRatio=\"xMidYMid meet\" style=\"background-color:transparent;fill:rgb(16.1%,15.3%,14.1%);fill-opacity:1.0;font-family:Helvetica;font-size:12px;opacity:1.0;stroke:rgb(16.1%,15.3%,14.1%);stroke-opacity:1.0;stroke-width:1.0\" viewBox=\"0 0 130.0 300.0\" width=\"130.0px\" xmlns=\"http://www.w3.org/2000/svg\" xmlns:toyplot=\"http://www.sandia.gov/toyplot\" xmlns:xlink=\"http://www.w3.org/1999/xlink\"><g class=\"toyplot-coordinates-Numberline\" id=\"tdf0fbeec0c2e4f8c9e43414e13a8675b\"><clipPath id=\"t40eaccac1a7d4eb2a37aca150ceea480\"><rect height=\"60.0\" width=\"286.0\" x=\"0\" y=\"-30.0\"></rect></clipPath><g clip-path=\"url(#t40eaccac1a7d4eb2a37aca150ceea480)\" transform=\"translate(16.0,293.0)rotate(-90.0)\"><g class=\"toyplot-color-Map\" id=\"t6273c221fd16410281f9f2e65f3dd759\"><defs><linearGradient gradientUnits=\"userSpaceOnUse\" id=\"te9cb47e88da5423dbc86c259e80210a4\" x1=\"0.0\" x2=\"286.0\" y1=\"0\" y2=\"0\"><stop offset=\"0.0\" stop-color=\"rgb(0.281%,0.024%,1.4%)\" stop-opacity=\"1.0\"></stop><stop offset=\"0.015873015873015872\" stop-color=\"rgb(0.958%,0.419%,3.93%)\" stop-opacity=\"1.0\"></stop><stop offset=\"0.031746031746031744\" stop-color=\"rgb(2.14%,1.02%,7.31%)\" stop-opacity=\"1.0\"></stop><stop offset=\"0.047619047619047616\" stop-color=\"rgb(3.9%,1.75%,10.8%)\" stop-opacity=\"1.0\"></stop><stop offset=\"0.06349206349206349\" stop-color=\"rgb(6.05%,2.51%,14.3%)\" stop-opacity=\"1.0\"></stop><stop offset=\"0.07936507936507936\" stop-color=\"rgb(8.31%,3.17%,18.1%)\" stop-opacity=\"1.0\"></stop><stop offset=\"0.09523809523809523\" stop-color=\"rgb(10.7%,3.61%,21.9%)\" stop-opacity=\"1.0\"></stop><stop offset=\"0.1111111111111111\" stop-color=\"rgb(13.3%,3.67%,25.8%)\" stop-opacity=\"1.0\"></stop><stop offset=\"0.12698412698412698\" stop-color=\"rgb(16.1%,3.29%,29.5%)\" stop-opacity=\"1.0\"></stop><stop offset=\"0.14285714285714285\" stop-color=\"rgb(18.9%,2.56%,33%)\" stop-opacity=\"1.0\"></stop><stop offset=\"0.15873015873015872\" stop-color=\"rgb(21.7%,1.72%,36%)\" stop-opacity=\"1.0\"></stop><stop offset=\"0.1746031746031746\" stop-color=\"rgb(24.4%,1.07%,38.3%)\" stop-opacity=\"1.0\"></stop><stop offset=\"0.19047619047619047\" stop-color=\"rgb(27%,0.804%,40%)\" stop-opacity=\"1.0\"></stop><stop offset=\"0.20634920634920634\" stop-color=\"rgb(29.5%,0.952%,41.3%)\" stop-opacity=\"1.0\"></stop><stop offset=\"0.2222222222222222\" stop-color=\"rgb(31.9%,1.48%,42.2%)\" stop-opacity=\"1.0\"></stop><stop offset=\"0.23809523809523808\" stop-color=\"rgb(34.3%,2.34%,42.8%)\" stop-opacity=\"1.0\"></stop><stop offset=\"0.25396825396825395\" stop-color=\"rgb(36.6%,3.45%,43.2%)\" stop-opacity=\"1.0\"></stop><stop offset=\"0.2698412698412698\" stop-color=\"rgb(38.9%,4.73%,43.4%)\" stop-opacity=\"1.0\"></stop><stop offset=\"0.2857142857142857\" stop-color=\"rgb(41.2%,5.98%,43.5%)\" stop-opacity=\"1.0\"></stop><stop offset=\"0.30158730158730157\" stop-color=\"rgb(43.5%,7.16%,43.5%)\" stop-opacity=\"1.0\"></stop><stop offset=\"0.31746031746031744\" stop-color=\"rgb(45.8%,8.29%,43.3%)\" stop-opacity=\"1.0\"></stop><stop offset=\"0.3333333333333333\" stop-color=\"rgb(48.1%,9.38%,43%)\" stop-opacity=\"1.0\"></stop><stop offset=\"0.3492063492063492\" stop-color=\"rgb(50.4%,10.4%,42.7%)\" stop-opacity=\"1.0\"></stop><stop offset=\"0.36507936507936506\" stop-color=\"rgb(52.8%,11.5%,42.2%)\" stop-opacity=\"1.0\"></stop><stop offset=\"0.38095238095238093\" stop-color=\"rgb(55.1%,12.5%,41.5%)\" stop-opacity=\"1.0\"></stop><stop offset=\"0.3968253968253968\" stop-color=\"rgb(57.5%,13.5%,40.8%)\" stop-opacity=\"1.0\"></stop><stop offset=\"0.4126984126984127\" stop-color=\"rgb(59.8%,14.5%,40%)\" stop-opacity=\"1.0\"></stop><stop offset=\"0.42857142857142855\" stop-color=\"rgb(62.2%,15.6%,39%)\" stop-opacity=\"1.0\"></stop><stop offset=\"0.4444444444444444\" stop-color=\"rgb(64.5%,16.7%,38%)\" stop-opacity=\"1.0\"></stop><stop offset=\"0.4603174603174603\" stop-color=\"rgb(66.8%,17.8%,36.8%)\" stop-opacity=\"1.0\"></stop><stop offset=\"0.47619047619047616\" stop-color=\"rgb(69.1%,19%,35.5%)\" stop-opacity=\"1.0\"></stop><stop offset=\"0.4920634920634921\" stop-color=\"rgb(71.3%,20.3%,34.2%)\" stop-opacity=\"1.0\"></stop><stop offset=\"0.5079365079365079\" stop-color=\"rgb(73.5%,21.6%,32.7%)\" stop-opacity=\"1.0\"></stop><stop offset=\"0.5238095238095237\" stop-color=\"rgb(75.7%,23.1%,31.2%)\" stop-opacity=\"1.0\"></stop><stop offset=\"0.5396825396825397\" stop-color=\"rgb(77.8%,24.7%,29.6%)\" stop-opacity=\"1.0\"></stop><stop offset=\"0.5555555555555556\" stop-color=\"rgb(79.8%,26.3%,27.9%)\" stop-opacity=\"1.0\"></stop><stop offset=\"0.5714285714285714\" stop-color=\"rgb(81.7%,28.1%,26.1%)\" stop-opacity=\"1.0\"></stop><stop offset=\"0.5873015873015872\" stop-color=\"rgb(83.5%,30%,24.3%)\" stop-opacity=\"1.0\"></stop><stop offset=\"0.6031746031746031\" stop-color=\"rgb(85.2%,32%,22.5%)\" stop-opacity=\"1.0\"></stop><stop offset=\"0.6190476190476191\" stop-color=\"rgb(86.9%,34.2%,20.6%)\" stop-opacity=\"1.0\"></stop><stop offset=\"0.6349206349206349\" stop-color=\"rgb(88.4%,36.4%,18.7%)\" stop-opacity=\"1.0\"></stop><stop offset=\"0.6507936507936507\" stop-color=\"rgb(89.7%,38.8%,16.7%)\" stop-opacity=\"1.0\"></stop><stop offset=\"0.6666666666666666\" stop-color=\"rgb(91%,41.3%,14.7%)\" stop-opacity=\"1.0\"></stop><stop offset=\"0.6825396825396826\" stop-color=\"rgb(92.1%,43.8%,12.6%)\" stop-opacity=\"1.0\"></stop><stop offset=\"0.6984126984126984\" stop-color=\"rgb(93%,46.5%,10.4%)\" stop-opacity=\"1.0\"></stop><stop offset=\"0.7142857142857142\" stop-color=\"rgb(93.9%,49.2%,8.13%)\" stop-opacity=\"1.0\"></stop><stop offset=\"0.7301587301587301\" stop-color=\"rgb(94.6%,52%,5.7%)\" stop-opacity=\"1.0\"></stop><stop offset=\"0.746031746031746\" stop-color=\"rgb(95.1%,54.9%,3.16%)\" stop-opacity=\"1.0\"></stop><stop offset=\"0.7619047619047619\" stop-color=\"rgb(95.5%,57.8%,1.27%)\" stop-opacity=\"1.0\"></stop><stop offset=\"0.7777777777777777\" stop-color=\"rgb(95.8%,60.7%,0.418%)\" stop-opacity=\"1.0\"></stop><stop offset=\"0.7936507936507936\" stop-color=\"rgb(95.9%,63.7%,0.8%)\" stop-opacity=\"1.0\"></stop><stop offset=\"0.8095238095238095\" stop-color=\"rgb(95.9%,66.8%,2.68%)\" stop-opacity=\"1.0\"></stop><stop offset=\"0.8253968253968254\" stop-color=\"rgb(95.7%,69.9%,6.07%)\" stop-opacity=\"1.0\"></stop><stop offset=\"0.8412698412698412\" stop-color=\"rgb(95.4%,73%,9.77%)\" stop-opacity=\"1.0\"></stop><stop offset=\"0.8571428571428571\" stop-color=\"rgb(94.9%,76.1%,13.7%)\" stop-opacity=\"1.0\"></stop><stop offset=\"0.873015873015873\" stop-color=\"rgb(94.3%,79.2%,17.8%)\" stop-opacity=\"1.0\"></stop><stop offset=\"0.8888888888888888\" stop-color=\"rgb(93.6%,82.4%,22.2%)\" stop-opacity=\"1.0\"></stop><stop offset=\"0.9047619047619048\" stop-color=\"rgb(92.8%,85.5%,27.1%)\" stop-opacity=\"1.0\"></stop><stop offset=\"0.9206349206349206\" stop-color=\"rgb(92%,88.5%,32.4%)\" stop-opacity=\"1.0\"></stop><stop offset=\"0.9365079365079364\" stop-color=\"rgb(91.3%,91.5%,38.4%)\" stop-opacity=\"1.0\"></stop><stop offset=\"0.9523809523809523\" stop-color=\"rgb(91.2%,94.2%,44.9%)\" stop-opacity=\"1.0\"></stop><stop offset=\"0.9682539682539681\" stop-color=\"rgb(91.8%,96.5%,51.7%)\" stop-opacity=\"1.0\"></stop><stop offset=\"0.9841269841269842\" stop-color=\"rgb(93.5%,98.5%,58.1%)\" stop-opacity=\"1.0\"></stop><stop offset=\"1.0\" stop-color=\"rgb(95.9%,100%,64.1%)\" stop-opacity=\"1.0\"></stop></linearGradient></defs><rect height=\"30\" style=\"fill:url(#te9cb47e88da5423dbc86c259e80210a4);stroke:rgb(82.7%,82.7%,82.7%);stroke-opacity:1.0;stroke-width:1.0\" width=\"286.0\" x=\"0.0\" y=\"-15.0\"></rect></g></g><g class=\"toyplot-coordinates-Axis\" id=\"t814cdfcaa8b94bef83d268f17aed62ae\" transform=\"translate(16.0,293.0)rotate(-90.0)translate(0,30.0)\"><g><g transform=\"translate(0.0,6)rotate(90)\"><text style=\"fill:rgb(16.1%,15.3%,14.1%);fill-opacity:1.0;font-family:helvetica;font-size:10.0px;font-weight:normal;stroke:none;vertical-align:baseline;white-space:pre\" x=\"-15.0\" y=\"2.5549999999999997\">0.00, (1, 0, 4)</text></g><g transform=\"translate(40.857142857142854,6)rotate(90)\"><text style=\"fill:rgb(16.1%,15.3%,14.1%);fill-opacity:1.0;font-family:helvetica;font-size:10.0px;font-weight:normal;stroke:none;vertical-align:baseline;white-space:pre\" x=\"-15.0\" y=\"2.5549999999999997\">0.14, (48, 7, 84)</text></g><g transform=\"translate(81.71428571428571,6)rotate(90)\"><text style=\"fill:rgb(16.1%,15.3%,14.1%);fill-opacity:1.0;font-family:helvetica;font-size:10.0px;font-weight:normal;stroke:none;vertical-align:baseline;white-space:pre\" x=\"-15.0\" y=\"2.5549999999999997\">0.29, (105, 15, 111)</text></g><g transform=\"translate(122.57142857142857,6)rotate(90)\"><text style=\"fill:rgb(16.1%,15.3%,14.1%);fill-opacity:1.0;font-family:helvetica;font-size:10.0px;font-weight:normal;stroke:none;vertical-align:baseline;white-space:pre\" x=\"-15.0\" y=\"2.5549999999999997\">0.43, (158, 40, 100)</text></g><g transform=\"translate(163.42857142857142,6)rotate(90)\"><text style=\"fill:rgb(16.1%,15.3%,14.1%);fill-opacity:1.0;font-family:helvetica;font-size:10.0px;font-weight:normal;stroke:none;vertical-align:baseline;white-space:pre\" x=\"-15.0\" y=\"2.5549999999999997\">0.57, (208, 72, 67)</text></g><g transform=\"translate(204.28571428571425,6)rotate(90)\"><text style=\"fill:rgb(16.1%,15.3%,14.1%);fill-opacity:1.0;font-family:helvetica;font-size:10.0px;font-weight:normal;stroke:none;vertical-align:baseline;white-space:pre\" x=\"-15.0\" y=\"2.5549999999999997\">0.71, (239, 125, 21)</text></g><g transform=\"translate(245.14285714285714,6)rotate(90)\"><text style=\"fill:rgb(16.1%,15.3%,14.1%);fill-opacity:1.0;font-family:helvetica;font-size:10.0px;font-weight:normal;stroke:none;vertical-align:baseline;white-space:pre\" x=\"-15.0\" y=\"2.5549999999999997\">0.86, (242, 194, 35)</text></g><g transform=\"translate(286.0,6)rotate(90)\"><text style=\"fill:rgb(16.1%,15.3%,14.1%);fill-opacity:1.0;font-family:helvetica;font-size:10.0px;font-weight:normal;stroke:none;vertical-align:baseline;white-space:pre\" x=\"-15.0\" y=\"2.5549999999999997\">1.00, (245, 255, 163)</text></g></g><g class=\"toyplot-coordinates-Axis-coordinates\" style=\"visibility:hidden\" transform=\"\"><line style=\"stroke:rgb(43.9%,50.2%,56.5%);stroke-opacity:1.0;stroke-width:1.0\" x1=\"0\" x2=\"0\" y1=\"-3.0\" y2=\"4.5\"></line><text style=\"alignment-baseline:alphabetic;fill:rgb(43.9%,50.2%,56.5%);fill-opacity:1.0;font-size:10px;font-weight:normal;stroke:none;text-anchor:middle\" x=\"0\" y=\"-6\"></text></g></g></g></svg><div class=\"toyplot-behavior\"><script>(function()\n",
       "{\n",
       "var modules={};\n",
       "modules[\"toyplot/canvas/id\"] = \"t73b83341e7694853ae9b964fd463f37d\";\n",
       "modules[\"toyplot/canvas\"] = (function(canvas_id)\n",
       "    {\n",
       "        return document.querySelector(\"#\" + canvas_id);\n",
       "    })(modules[\"toyplot/canvas/id\"]);\n",
       "modules[\"toyplot.coordinates.Axis\"] = (\n",
       "        function(canvas)\n",
       "        {\n",
       "            function sign(x)\n",
       "            {\n",
       "                return x < 0 ? -1 : x > 0 ? 1 : 0;\n",
       "            }\n",
       "\n",
       "            function mix(a, b, amount)\n",
       "            {\n",
       "                return ((1.0 - amount) * a) + (amount * b);\n",
       "            }\n",
       "\n",
       "            function log(x, base)\n",
       "            {\n",
       "                return Math.log(Math.abs(x)) / Math.log(base);\n",
       "            }\n",
       "\n",
       "            function in_range(a, x, b)\n",
       "            {\n",
       "                var left = Math.min(a, b);\n",
       "                var right = Math.max(a, b);\n",
       "                return left <= x && x <= right;\n",
       "            }\n",
       "\n",
       "            function inside(range, projection)\n",
       "            {\n",
       "                for(var i = 0; i != projection.length; ++i)\n",
       "                {\n",
       "                    var segment = projection[i];\n",
       "                    if(in_range(segment.range.min, range, segment.range.max))\n",
       "                        return true;\n",
       "                }\n",
       "                return false;\n",
       "            }\n",
       "\n",
       "            function to_domain(range, projection)\n",
       "            {\n",
       "                for(var i = 0; i != projection.length; ++i)\n",
       "                {\n",
       "                    var segment = projection[i];\n",
       "                    if(in_range(segment.range.bounds.min, range, segment.range.bounds.max))\n",
       "                    {\n",
       "                        if(segment.scale == \"linear\")\n",
       "                        {\n",
       "                            var amount = (range - segment.range.min) / (segment.range.max - segment.range.min);\n",
       "                            return mix(segment.domain.min, segment.domain.max, amount)\n",
       "                        }\n",
       "                        else if(segment.scale[0] == \"log\")\n",
       "                        {\n",
       "                            var amount = (range - segment.range.min) / (segment.range.max - segment.range.min);\n",
       "                            var base = segment.scale[1];\n",
       "                            return sign(segment.domain.min) * Math.pow(base, mix(log(segment.domain.min, base), log(segment.domain.max, base), amount));\n",
       "                        }\n",
       "                    }\n",
       "                }\n",
       "            }\n",
       "\n",
       "            var axes = {};\n",
       "\n",
       "            function display_coordinates(e)\n",
       "            {\n",
       "                var current = canvas.createSVGPoint();\n",
       "                current.x = e.clientX;\n",
       "                current.y = e.clientY;\n",
       "\n",
       "                for(var axis_id in axes)\n",
       "                {\n",
       "                    var axis = document.querySelector(\"#\" + axis_id);\n",
       "                    var coordinates = axis.querySelector(\".toyplot-coordinates-Axis-coordinates\");\n",
       "                    if(coordinates)\n",
       "                    {\n",
       "                        var projection = axes[axis_id];\n",
       "                        var local = current.matrixTransform(axis.getScreenCTM().inverse());\n",
       "                        if(inside(local.x, projection))\n",
       "                        {\n",
       "                            var domain = to_domain(local.x, projection);\n",
       "                            coordinates.style.visibility = \"visible\";\n",
       "                            coordinates.setAttribute(\"transform\", \"translate(\" + local.x + \")\");\n",
       "                            var text = coordinates.querySelector(\"text\");\n",
       "                            text.textContent = domain.toFixed(2);\n",
       "                        }\n",
       "                        else\n",
       "                        {\n",
       "                            coordinates.style.visibility= \"hidden\";\n",
       "                        }\n",
       "                    }\n",
       "                }\n",
       "            }\n",
       "\n",
       "            canvas.addEventListener(\"click\", display_coordinates);\n",
       "\n",
       "            var module = {};\n",
       "            module.show_coordinates = function(axis_id, projection)\n",
       "            {\n",
       "                axes[axis_id] = projection;\n",
       "            }\n",
       "\n",
       "            return module;\n",
       "        })(modules[\"toyplot/canvas\"]);\n",
       "(function(axis, axis_id, projection)\n",
       "        {\n",
       "            axis.show_coordinates(axis_id, projection);\n",
       "        })(modules[\"toyplot.coordinates.Axis\"],\"t814cdfcaa8b94bef83d268f17aed62ae\",[{\"domain\": {\"bounds\": {\"max\": Infinity, \"min\": -Infinity}, \"max\": 1.0, \"min\": 0.0}, \"range\": {\"bounds\": {\"max\": Infinity, \"min\": -Infinity}, \"max\": 286.0, \"min\": 0.0}, \"scale\": \"linear\"}]);\n",
       "})();</script></div></div>"
      ]
     },
     "metadata": {},
     "output_type": "display_data"
    }
   ],
   "source": [
    "canvas = toyplot.Canvas(width=130, height=300)\n",
    "numberline = canvas.numberline(x1=16, x2=16, y1=-7, y2=7)\n",
    "numberline.padding = 30\n",
    "numberline.axis.spine.show = False\n",
    "numberline.colormap(colors_map,\n",
    "                    width=30,\n",
    "                    style={'stroke':'lightgrey'})\n",
    "\n",
    "control_point_labels = \\\n",
    "    control_points.apply(lambda row: '%1.2f, %s' % (row['scalar'],\n",
    "                                                  str(row['RGB'])),\n",
    "                       axis=1)\n",
    "numberline.axis.ticks.locator = \\\n",
    "    toyplot.locator.Explicit(locations=control_points['scalar'],\n",
    "                             labels=control_point_labels)\n",
    "numberline.axis.ticks.labels.angle = -90\n",
    "numberline.axis.ticks.labels.style = {'text-anchor':'start',\n",
    "                                      'baseline-shift':'0%',\n",
    "                                      '-toyplot-anchor-shift':'-15px'}"
   ]
  },
  {
   "cell_type": "code",
   "execution_count": 15,
   "metadata": {},
   "outputs": [],
   "source": [
    "toyplot.svg.render(canvas, 'inferno.svg')"
   ]
  },
  {
   "cell_type": "markdown",
   "metadata": {},
   "source": [
    "Create several csv files containing color tables for this color map. We will create color tables of many different sizes from 8 rows to 1024. We also write out one set of csv files for \"upscaled\" color bytes (values 0-255) and another for floating point numbers (0-1)."
   ]
  },
  {
   "cell_type": "code",
   "execution_count": 16,
   "metadata": {},
   "outputs": [],
   "source": [
    "for num_bits in range(3, 11):\n",
    "    table_length = 2 ** num_bits\n",
    "    color_table = pandas.DataFrame({'scalar': numpy.linspace(0.0, 1.0, num=table_length)})\n",
    "    color_table['RGB'] = color_table['scalar'].apply(color_lookup_upscaled)\n",
    "    unzip_rgb_triple(color_table, 'RGB')\n",
    "    color_table.to_csv('inferno-table-byte-{:04}.csv'.format(table_length),\n",
    "                       index=False,\n",
    "                       columns=['scalar', 'RGB_r', 'RGB_g', 'RGB_b'])\n",
    "    color_table['sRGB'] = color_table['scalar'].apply(color_lookup)\n",
    "    unzip_rgb_triple(color_table, 'sRGB')\n",
    "    color_table.to_csv('inferno-table-float-{:04}.csv'.format(table_length),\n",
    "                       index=False,\n",
    "                       columns=['scalar', 'sRGB_r', 'sRGB_g', 'sRGB_b'],\n",
    "                       header=['scalar', 'RGB_r', 'RGB_g', 'RGB_b'])"
   ]
  },
  {
   "cell_type": "code",
   "execution_count": null,
   "metadata": {},
   "outputs": [],
   "source": []
  }
 ],
 "metadata": {
  "kernelspec": {
   "display_name": "Python 3",
   "language": "python",
   "name": "python3"
  },
  "language_info": {
   "codemirror_mode": {
    "name": "ipython",
    "version": 3
   },
   "file_extension": ".py",
   "mimetype": "text/x-python",
   "name": "python",
   "nbconvert_exporter": "python",
   "pygments_lexer": "ipython3",
   "version": "3.7.5"
  }
 },
 "nbformat": 4,
 "nbformat_minor": 2
}
